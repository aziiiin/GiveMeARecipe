{
 "cells": [
  {
   "cell_type": "markdown",
   "metadata": {
    "colab_type": "text",
    "id": "9I8C-jmJgz7p"
   },
   "source": [
    "# Web Scraping: Yummly - Getting All the Features\n",
    "\n",
    "web scraping yummly Recipe data  using `request` and `BeautifulSoup` packages."
   ]
  },
  {
   "cell_type": "markdown",
   "metadata": {},
   "source": [
    "## Importhing the Libraries"
   ]
  },
  {
   "cell_type": "code",
   "execution_count": 1,
   "metadata": {},
   "outputs": [],
   "source": [
    "import numpy as np\n",
    "import requests\n",
    "from bs4 import BeautifulSoup\n",
    "import pandas as pd\n"
   ]
  },
  {
   "cell_type": "code",
   "execution_count": 5,
   "metadata": {
    "colab": {},
    "colab_type": "code",
    "id": "LQKpsa6qgz7r"
   },
   "outputs": [],
   "source": [
    "def recipe_details(recipe_url):\n",
    "    # make a get request of a webpage\n",
    "    recipe_request = requests.get(recipe_url)\n",
    "\n",
    "    # The .text returns the text from the request\n",
    "    recipe_html = recipe_request.text\n",
    "    \n",
    "    # Parse with BeautifulSoup\n",
    "    # We use `BeautifulSoup` to decompose the string into html tags and  we search through the html tree to find the tags we're interested in.\n",
    "    # Turn into soup, specify the HTML parser\n",
    "    recipe_soup = BeautifulSoup(recipe_html, 'html.parser')\n",
    "    \n",
    "    # Getting the Name of Recipe\n",
    "    Recipe_Name = recipe_soup.find_all(\"h1\", {'class' : \"recipe-title font-bold h2-text primary-dark\"})[0].text\n",
    "    \n",
    "    # Getting the List of Ingredients\n",
    "    ingredient_info = recipe_soup.find_all(\"li\", {'class' : 'IngredientLine'})\n",
    "    ingredients = [row.find_all('span', {'class': 'ingredient'})[0].text.rstrip() for row in ingredient_info]\n",
    "    ingredients = list(set(ingredients))\n",
    "    Number_of_ingredients = len(ingredients)    \n",
    "    \n",
    "    #Getting the Ingredients' Amount and Unit\n",
    "    ingredients_amount = [row.find_all('span', {'class': 'amount'}) for row in ingredient_info]\n",
    "    ingredients_amount_1 = [row.find_all('span', {'data-singular' :\"false\"}) for row in ingredient_info]\n",
    "    ingredient_amount_integer = [0] * len(ingredient_info)\n",
    "    for i, row in enumerate(ingredients_amount_1):\n",
    "        if len(row) > 0 :\n",
    "            ingredient_amount_integer[i] = int(row[0].text.split(' ')[0])\n",
    "\n",
    "\n",
    "    ingredient_amount_numerator = [0] * len(ingredient_info)\n",
    "    ingredients_amount_1 =  [row.find_all('span', {'class' :\"numerator\"}) for row in ingredient_info]\n",
    "    for i, row in enumerate(ingredients_amount_1):\n",
    "        if len(row) > 0 :\n",
    "            ingredient_amount_numerator[i] = int(row[0].text)\n",
    "\n",
    "\n",
    "    ingredient_amount_denominator = [0] * len(ingredient_info)\n",
    "    ingredients_amount_1 =  [row.find_all('span', {'class' :\"denominator\"}) for row in ingredient_info]\n",
    "    for i, row in enumerate(ingredients_amount_1):\n",
    "        if len(row) > 0 :\n",
    "            ingredient_amount_denominator[i] = int(row[0].text)\n",
    "\n",
    "\n",
    "\n",
    "    ingredient_amounts=[0] * len(ingredient_info)\n",
    "    for i in range(len(ingredient_amounts)):\n",
    "        if ingredient_amount_denominator[i] != 0:\n",
    "            ingredient_amounts[i] = round(ingredient_amount_integer[i]+(ingredient_amount_numerator[i]/ingredient_amount_denominator[i]),2)\n",
    "        else:\n",
    "            ingredient_amounts[i] = ingredient_amount_integer[i]\n",
    "\n",
    "    ingredient_amounts = [i if i != 0 else 1 for i in ingredient_amounts]\n",
    "    ingredients_unit = [row.find_all('span', {'class' :\"unit\"}) for row in ingredient_info]\n",
    "    ingredient_units = [0] * len(ingredient_info)\n",
    "    for i, row in enumerate(ingredients_unit):\n",
    "        if len(row) > 0 :\n",
    "            ingredient_units[i] = row[0].text\n",
    "        else:\n",
    "            ingredient_units[i] = ' '\n",
    "\n",
    "    Amounts = dict(zip(ingredients,[str(m)+' '+n for m,n in zip(ingredient_amounts,ingredient_units)]))\n",
    "    \n",
    "    # Getting the Cooking Time\n",
    "    try:\n",
    "        Time = recipe_soup.find_all(\"div\", {'class' : 'recipe-summary-item'})[1]\n",
    "        Time_unit = Time.find_all('span', {'class': 'unit font-normal p3-text'})[0].text.rstrip()\n",
    "        Time_value = Time.find_all('span', {'class': 'value font-light h2-text'})[0].text\n",
    "    except:\n",
    "        Time_unit = ''\n",
    "        Time_value = ''\n",
    "    # Getting the Calories\n",
    "    try:\n",
    "        calories = recipe_soup.find_all(\"div\", {'class' : 'recipe-summary-item'})[2]\n",
    "        unit = calories.find_all('span', {'class': 'unit font-normal p3-text'})[0].text.rstrip()\n",
    "        Calories_value = calories.find_all('span', {'class': 'value font-light h2-text'})[0].text\n",
    "    except:\n",
    "        Calories_value = ''\n",
    "    \n",
    "    # Getting the Nutrition Information\n",
    "    try:\n",
    "        Nutrition_info = recipe_soup.find_all(\"div\", {'class' : 'recipe-nutrition'})\n",
    "        nutritions = [row.find_all('span', {'class': 'label font-bold micro-caps'}) for row in Nutrition_info][0]\n",
    "        nutrition_labels = [row.text for row in nutritions]\n",
    "        nutrition_values = [row.find_all('span', {'class': \"raw-value micro-text\"}) for row in Nutrition_info][0]\n",
    "        Nutrition_values = [row.text for row in nutrition_values]\n",
    "    except:\n",
    "        Nutrition_values = ['','','','','']\n",
    "        \n",
    "    try :\n",
    "        Sodiumindex = nutrition_labels.index('Sodium')\n",
    "        Sodium = Nutrition_values[Sodiumindex]\n",
    "    except :\n",
    "        Sodium = ''\n",
    "        \n",
    "    try :\n",
    "        Fatindex = nutrition_labels.index('Fat')\n",
    "        Fat = Nutrition_values[Fatindex]\n",
    "    except :\n",
    "        Fat = ''\n",
    "        \n",
    "    try :\n",
    "        Proteinindex = nutrition_labels.index('Protein')\n",
    "        Protein = Nutrition_values[Proteinindex]\n",
    "    except :\n",
    "        Protein = ''    \n",
    " \n",
    "    try :\n",
    "        Carbsindex = nutrition_labels.index('Carbs')\n",
    "        Carbs = Nutrition_values[Carbsindex]\n",
    "    except :\n",
    "        Carbs = '' \n",
    "        \n",
    "    try :\n",
    "        Fiberindex = nutrition_labels.index('Fiber')\n",
    "        Fiber = Nutrition_values[Fiberindex]\n",
    "    except :\n",
    "        Fiber = '' \n",
    "    \n",
    "    \n",
    "    # Getting the Servings\n",
    "    try:\n",
    "        servings = recipe_soup.find_all('label', {'class' : 'micro-caps greyscale-1'})\n",
    "        servings = int(servings[0].find_all('input',{'class':'font-bold greyscale-1'})[0]['value'])\n",
    "    except:\n",
    "        servings = ''\n",
    "    \n",
    "    # Getting the Star Rating and Number of Reviews\n",
    "    try:\n",
    "        rating = recipe_soup.find_all('a', {'class': 'recipe-details-rating p2-text primary-orange'})\n",
    "        star_rating_full = [row.find_all('span', {'class': \"icon full-star y-icon\"}) for row in rating][0]\n",
    "        star_rating_half = [row.find_all('span', {'class': \"icon half-star y-icon\"}) for row in rating][0]\n",
    "        star_rating = len(star_rating_full)+ 0.5*len(star_rating_half)\n",
    "        num_reviews =  [row.find_all('span', {'class': \"count font-bold micro-text\"}) for row in rating][0]\n",
    "        num_reviews = num_reviews[0].text.replace('(', '')\n",
    "        num_reviews = int(num_reviews.replace(')', ''))\n",
    "    except:\n",
    "        num_reviews = 0\n",
    "        star_rating = ''\n",
    "        \n",
    "    try:\n",
    "        course = recipe_soup.find_all('li', {'class' : 'recipe-tag micro-text font-bold'})\n",
    "        course = course[0]['title'].strip('Course: ')\n",
    "    except:\n",
    "        course = ''\n",
    "        \n",
    "        \n",
    "    \n",
    "    \n",
    "        \n",
    "\n",
    "    # Getting the Directions\n",
    "    rec_url = recipe_url \n",
    "    return [Recipe_Name,ingredients, Number_of_ingredients, Amounts, Time_value, Time_unit, Calories_value,\n",
    "                    Sodium, Fat, Protein, Carbs, Fiber, servings, star_rating, num_reviews,course, rec_url]\n",
    "    \n",
    "    \n",
    "    \n",
    "\n",
    "\n",
    "\n"
   ]
  },
  {
   "cell_type": "markdown",
   "metadata": {
    "colab_type": "text",
    "id": "zaBYY9UIgz9o"
   },
   "source": [
    "## Putting everything together"
   ]
  },
  {
   "cell_type": "code",
   "execution_count": 6,
   "metadata": {},
   "outputs": [],
   "source": [
    "column_names = ['Recipe_Name','Ingredients', 'Number_of_Ingredients', 'Amounts', 'Cooking_Time', 'Cooking_Time_Unit',\n",
    "               'Calories', 'Sodium','Fat','Protein','Carbs','Fiber','Servings', 'Star_Rating','Number_of_Reviews','Course','Directions']\n",
    "df= pd.DataFrame(columns=column_names)"
   ]
  },
  {
   "cell_type": "code",
   "execution_count": 7,
   "metadata": {},
   "outputs": [
    {
     "data": {
      "text/plain": [
       "1033"
      ]
     },
     "execution_count": 7,
     "metadata": {},
     "output_type": "execute_result"
    }
   ],
   "source": [
    "recipe_urls = np.load('Recipes.npy')\n",
    "len(recipe_urls)"
   ]
  },
  {
   "cell_type": "code",
   "execution_count": 8,
   "metadata": {},
   "outputs": [
    {
     "name": "stdout",
     "output_type": "stream",
     "text": [
      "This URL Does Not Exist http://yummly.com/recipes/salmon\n",
      "This URL Does Not Exist http://yummly.com/recipes/midori-pineapple-juice\n",
      "This URL Does Not Exist http://yummly.com/recipes/chicken-pasta\n",
      "This URL Does Not Exist http://yummly.com/recipes/pasta\n",
      "This URL Does Not Exist http://yummly.com/recipes/sandwiches\n",
      "This URL Does Not Exist http://yummly.com/recipes/appetizers\n",
      "This URL Does Not Exist http://yummly.com/recipes/pepperoncini-peppers\n",
      "This URL Does Not Exist http://yummly.com/recipes/potato-soup-with-beef-broth\n",
      "This URL Does Not Exist http://yummly.com/recipes/wild-rice-dried-cranberries-pine-nuts\n",
      "This URL Does Not Exist http://yummly.com/recipe/Chicken-Soup-2346075\n",
      "This URL Does Not Exist http://yummly.com/recipes/parsnips-turnips\n",
      "This URL Does Not Exist http://yummly.com/recipes/ground-beef\n",
      "This URL Does Not Exist http://yummly.com/recipe/The-Ultimate-Beef-Stew-2590056\n",
      "This URL Does Not Exist http://yummly.com/recipe/Chicken-a-Jardineira-2569427\n",
      "This URL Does Not Exist http://yummly.com/recipes/pizza-dough-quiche\n",
      "This URL Does Not Exist http://yummly.com/recipes/chicken-florentine-soup\n",
      "This URL Does Not Exist http://yummly.com/recipes/rockfish-fillet\n",
      "This URL Does Not Exist http://yummly.com/recipes/chicken-breast\n",
      "This URL Does Not Exist http://yummly.com/recipes/meatballs\n",
      "This URL Does Not Exist http://yummly.com/recipes/romaine-lettuce-drink\n",
      "This URL Does Not Exist http://yummly.com/recipes/soup\n",
      "This URL Does Not Exist http://yummly.com/recipes/shrimp\n",
      "This URL Does Not Exist http://yummly.com/recipe/German-Ground-Beef-Stew-Dinner-Idea-1811518\n",
      "This URL Does Not Exist http://yummly.com/pro/recipe/Mushroom-Curry-Roti-9126116\n",
      "This URL Does Not Exist http://yummly.com/recipes/rice\n",
      "This URL Does Not Exist http://yummly.com/recipe/Burmese-Prawn-Rice-1016992\n",
      "This URL Does Not Exist http://yummly.com/recipes/ground-chicken-rice\n",
      "This URL Does Not Exist http://yummly.com/recipes/pancakes\n",
      "This URL Does Not Exist http://yummly.com/recipes/cod-soup-with-tomatoes\n",
      "This URL Does Not Exist http://yummly.com/recipes/chili\n",
      "This URL Does Not Exist http://yummly.com/recipes/raspberry-bombe-dessert\n",
      "This URL Does Not Exist http://yummly.com/recipes/salad\n",
      "This URL Does Not Exist http://yummly.com/recipes/goose-sausage-pork\n",
      "This URL Does Not Exist http://yummly.com/recipes/low-fat-lasagna-sauce\n",
      "This URL Does Not Exist http://yummly.com/recipes/pork-chops\n",
      "This URL Does Not Exist http://yummly.com/pro/recipe/Soy-Sauce-and-Togarashi-Chicken-Biryani-with-Smoked-Basmati-Rice-9126118\n",
      "This URL Does Not Exist http://yummly.com/recipes/beef-curry-low-fat\n",
      "This URL Does Not Exist http://yummly.com/recipe/Avocado-and-Chickpea-Salad-Naturally-Ella-46376\n",
      "This URL Does Not Exist http://yummly.com/recipes/shrimp-scampi\n",
      "This URL Does Not Exist http://yummly.com/recipes/desserts\n",
      "This URL Does Not Exist http://yummly.com/recipes/lasagna\n",
      "This URL Does Not Exist http://yummly.com/recipes/berry-gelato\n",
      "This URL Does Not Exist http://yummly.com/recipes/healthy-egg-white-casserole\n",
      "This URL Does Not Exist http://yummly.com/recipes/cinnamon-vanilla-hazelnut-coffee\n",
      "This URL Does Not Exist http://yummly.com/recipes/low-calorie-olive-garden-salad-dressing\n",
      "This URL Does Not Exist http://yummly.com/recipe/Thai-Massaman-Chicken-Curry-2347476\n",
      "This URL Does Not Exist http://yummly.com/recipes/pizza\n",
      "This URL Does Not Exist http://yummly.com/recipes/chicken\n",
      "This URL Does Not Exist http://yummly.com/recipes/breakfast\n",
      "This URL Does Not Exist http://yummly.com/recipes/peanut-roll-candy\n",
      "This URL Does Not Exist http://yummly.com/recipes/beef\n",
      "This URL Does Not Exist http://yummly.com/recipes/fried-halibut-fillet\n",
      "This URL Does Not Exist http://yummly.com/recipes/apple-crisp-without-white-sugar\n",
      "This URL Does Not Exist http://yummly.com/recipes/mexican-green-juice\n",
      "This URL Does Not Exist http://yummly.com/recipe/Gado-Gado-1264230\n",
      "This URL Does Not Exist http://yummly.com/recipes/lunch\n",
      "This URL Does Not Exist http://yummly.com/recipes/eggplant-water\n",
      "This URL Does Not Exist http://yummly.com/recipes/kahlua-cake-trifle\n",
      "This URL Does Not Exist http://yummly.com/recipe/Cheap-And-Easy-Chicken-Spaghetti-1528471\n",
      "This URL Does Not Exist http://yummly.com/recipes/pork-roast-crock-pot-soy-sauce\n",
      "This URL Does Not Exist http://yummly.com/recipes/dipping-chocolate-with-unsweetened-chocolate\n",
      "This URL Does Not Exist http://yummly.com/recipes/baked-potato-soup-bacon\n",
      "This URL Does Not Exist http://yummly.com/recipes/sauteed-catfish-fillets\n"
     ]
    },
    {
     "data": {
      "text/plain": [
       "970"
      ]
     },
     "execution_count": 8,
     "metadata": {},
     "output_type": "execute_result"
    }
   ],
   "source": [
    "for recipe_url in recipe_urls:\n",
    "    url  = 'http://yummly.com' + recipe_url\n",
    "    try:\n",
    "        recipe_df = pd.DataFrame([recipe_details(url)],columns=column_names) \n",
    "        df = pd.concat([df,recipe_df])\n",
    "    except:\n",
    "        print('This URL Does Not Exist', url)\n"
   ]
  },
  {
   "cell_type": "code",
   "execution_count": null,
   "metadata": {},
   "outputs": [],
   "source": [
    "acceptable_course_list = ['Main Dish', 'Lunch', 'Beverag', 'Salad', 'Appetiz','Breakfast and Brunch', 'Dessert','Side Dish']\n",
    "df['Course']= df['Course'].apply (lambda x : x if x in acceptable_course_list else '')\n",
    "df.to_csv(\"all_recipes_new.csv\", index=False) #Convert DataFrame to .csv file\n",
    "print('Number of Recipes: ' , len(df))"
   ]
  }
 ],
 "metadata": {
  "colab": {
   "name": "scraping_insight_2020_May.ipynb",
   "provenance": []
  },
  "kernelspec": {
   "display_name": "Python 3",
   "language": "python",
   "name": "python3"
  },
  "language_info": {
   "codemirror_mode": {
    "name": "ipython",
    "version": 3
   },
   "file_extension": ".py",
   "mimetype": "text/x-python",
   "name": "python",
   "nbconvert_exporter": "python",
   "pygments_lexer": "ipython3",
   "version": "3.8.2"
  }
 },
 "nbformat": 4,
 "nbformat_minor": 1
}
