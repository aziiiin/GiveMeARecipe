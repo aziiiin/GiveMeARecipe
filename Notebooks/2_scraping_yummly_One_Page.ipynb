{
 "cells": [
  {
   "cell_type": "markdown",
   "metadata": {
    "colab_type": "text",
    "id": "9I8C-jmJgz7p"
   },
   "source": [
    "# Web Scraping: Yummly\n",
    "\n",
    "web scraping yummly Recipe data  using `request` and `BeautifulSoup` packages."
   ]
  },
  {
   "cell_type": "markdown",
   "metadata": {},
   "source": [
    "## Importhing the Libraries"
   ]
  },
  {
   "cell_type": "code",
   "execution_count": 1,
   "metadata": {},
   "outputs": [],
   "source": [
    "import numpy as np\n",
    "import requests\n",
    "from bs4 import BeautifulSoup\n",
    "import pandas as pd\n"
   ]
  },
  {
   "cell_type": "markdown",
   "metadata": {
    "colab_type": "text",
    "id": "eCCKpH4Hgz7q"
   },
   "source": [
    "## Read the Webpage\n",
    "\n",
    "reading the content of a web page directly into a python object. \n",
    "Using `request` library to receive the html content,\n",
    "using `text` method to extract the html."
   ]
  },
  {
   "cell_type": "code",
   "execution_count": 2,
   "metadata": {
    "colab": {},
    "colab_type": "code",
    "id": "LQKpsa6qgz7r"
   },
   "outputs": [],
   "source": [
    "recipe_url = \"http://yummly.com/recipe/Hot-and-Sweet-Cubano-Sandwich-1313298\"\n",
    "\n",
    "# make a get request of a webpage\n",
    "recipe_request = requests.get(recipe_url)\n",
    "\n",
    "# The .text returns the text from the request\n",
    "recipe_html = recipe_request.text"
   ]
  },
  {
   "cell_type": "markdown",
   "metadata": {
    "colab_type": "text",
    "id": "N8tLPFs6gz8B"
   },
   "source": [
    "## Parse with BeautifulSoup\n",
    "We use `BeautifulSoup` to decompose the string into html tags and  we search through the html tree to find the tags we're interested in."
   ]
  },
  {
   "cell_type": "code",
   "execution_count": 3,
   "metadata": {
    "colab": {},
    "colab_type": "code",
    "id": "efXrKejngz8C"
   },
   "outputs": [],
   "source": [
    "# Turn into soup, specify the HTML parser\n",
    "recipe_soup = BeautifulSoup(recipe_html, 'html.parser')"
   ]
  },
  {
   "cell_type": "markdown",
   "metadata": {},
   "source": [
    "## Getting the Name of Recipe"
   ]
  },
  {
   "cell_type": "code",
   "execution_count": 4,
   "metadata": {},
   "outputs": [
    {
     "name": "stdout",
     "output_type": "stream",
     "text": [
      "Recipe Name:  Hot and Sweet Cubano Sandwich\n"
     ]
    }
   ],
   "source": [
    "Recipe_Name = recipe_soup.find_all(\"h1\", {'class' : \"recipe-title font-bold h2-text primary-dark\"})[0].text\n",
    "\n",
    "print ('Recipe Name: ',Recipe_Name)"
   ]
  },
  {
   "cell_type": "markdown",
   "metadata": {},
   "source": [
    "## Getting the List of Ingredients "
   ]
  },
  {
   "cell_type": "code",
   "execution_count": 5,
   "metadata": {
    "colab": {},
    "colab_type": "code",
    "id": "c2iiVPZ2gz8K"
   },
   "outputs": [
    {
     "name": "stdout",
     "output_type": "stream",
     "text": [
      "List of  Ingredients:  {'honey glazed ham', 'salt', 'unsalted butter', 'green chile', 'pepper', 'swiss cheese', 'submarine rolls', 'chinese mustard', 'boneless pork loin roast', 'plum jelly'}\n",
      "Number of  Ingredients:  10\n"
     ]
    }
   ],
   "source": [
    "ingredient_info = recipe_soup.find_all(\"li\", {'class' : 'IngredientLine'})\n",
    "ingredients = [row.find_all('span', {'class': 'ingredient'})[0].text.rstrip() for row in ingredient_info]\n",
    "print('List of  Ingredients: ', set(ingredients))\n",
    "Number_of_ingredients = len(set(ingredients))\n",
    "print('Number of  Ingredients: ', Number_of_ingredients)\n"
   ]
  },
  {
   "cell_type": "markdown",
   "metadata": {},
   "source": [
    "## Getting the Ingredients' Amount and Unit"
   ]
  },
  {
   "cell_type": "code",
   "execution_count": 6,
   "metadata": {},
   "outputs": [
    {
     "name": "stdout",
     "output_type": "stream",
     "text": [
      "Ingredient Amounts:  {'boneless pork loin roast': '2 pounds ', 'honey glazed ham': '1 pound ', 'salt': '1 teaspoon ', 'pepper': '1 teaspoon ', 'chinese mustard': '1 cup ', 'submarine rolls': '8 whole ', 'plum jelly': '0.75 cup ', 'swiss cheese': '8 slices ', 'green chile': '14 ounces ', 'unsalted butter': '4 tablespoons '}\n"
     ]
    }
   ],
   "source": [
    "ingredients_amount = [row.find_all('span', {'class': 'amount'}) for row in ingredient_info]\n",
    "ingredients_amount_1 = [row.find_all('span', {'data-singular' :\"false\"}) for row in ingredient_info]\n",
    "ingredient_amount_integer = [0] * len(ingredient_info)\n",
    "for i, row in enumerate(ingredients_amount_1):\n",
    "    if len(row) > 0 :\n",
    "        ingredient_amount_integer[i] = int(row[0].text.split(' ')[0])\n",
    "\n",
    "\n",
    "ingredient_amount_numerator = [0] * len(ingredient_info)\n",
    "ingredients_amount_2 =  [row.find_all('span', {'class' :\"numerator\"}) for row in ingredient_info]\n",
    "for i, row in enumerate(ingredients_amount_2):\n",
    "    if len(row) > 0 :\n",
    "        ingredient_amount_numerator[i] = int(row[0].text)\n",
    "\n",
    "\n",
    "ingredient_amount_denominator = [0] * len(ingredient_info)\n",
    "ingredients_amount_2 =  [row.find_all('span', {'class' :\"denominator\"}) for row in ingredient_info]\n",
    "for i, row in enumerate(ingredients_amount_2):\n",
    "    if len(row) > 0 :\n",
    "        ingredient_amount_denominator[i] = int(row[0].text)\n",
    "\n",
    "\n",
    "\n",
    "ingredient_amounts=[0] * len(ingredient_info)\n",
    "for i in range(len(ingredient_amounts)):\n",
    "    if ingredient_amount_denominator[i] != 0:\n",
    "        ingredient_amounts[i] = round(ingredient_amount_integer[i]+(ingredient_amount_numerator[i]/ingredient_amount_denominator[i]),2)\n",
    "    else:\n",
    "        ingredient_amounts[i] = ingredient_amount_integer[i]\n",
    "\n",
    "ingredient_amounts = [i if i != 0 else 1 for i in ingredient_amounts]\n",
    "ingredients_unit = [row.find_all('span', {'class' :\"unit\"}) for row in ingredient_info]\n",
    "ingredient_units = [0] * len(ingredient_info)\n",
    "for i, row in enumerate(ingredients_unit):\n",
    "    if len(row) > 0 :\n",
    "        ingredient_units[i] = row[0].text\n",
    "    else:\n",
    "        ingredient_units[i] = ' '\n",
    "\n",
    "\n",
    "Amounts = dict(zip(ingredients,[str(m)+' '+n for m,n in zip(ingredient_amounts,ingredient_units)]))\n",
    "print('Ingredient Amounts: ', Amounts)"
   ]
  },
  {
   "cell_type": "markdown",
   "metadata": {},
   "source": [
    "## Getting the Cooking Time"
   ]
  },
  {
   "cell_type": "code",
   "execution_count": 7,
   "metadata": {
    "colab": {},
    "colab_type": "code",
    "id": "MXCZ7KXJgz8P"
   },
   "outputs": [
    {
     "name": "stdout",
     "output_type": "stream",
     "text": [
      "Cooking time:  105   Minutes\n"
     ]
    }
   ],
   "source": [
    "Time = recipe_soup.find_all(\"div\", {'class' : 'recipe-summary-item'})[1]\n",
    "Time_unit = Time.find_all('span', {'class': 'unit font-normal p3-text'})[0].text.rstrip()\n",
    "Time_value = Time.find_all('span', {'class': 'value font-light h2-text'})[0].text\n",
    "print('Cooking time: ',Time_value, \" \",Time_unit)"
   ]
  },
  {
   "cell_type": "markdown",
   "metadata": {},
   "source": [
    "## Getting the Calories"
   ]
  },
  {
   "cell_type": "code",
   "execution_count": 8,
   "metadata": {},
   "outputs": [
    {
     "name": "stdout",
     "output_type": "stream",
     "text": [
      "Calories :     \n"
     ]
    }
   ],
   "source": [
    "try:\n",
    "    calories = recipe_soup.find_all(\"div\", {'class' : 'recipe-summary-item'})[2]\n",
    "    unit = calories.find_all('span', {'class': 'unit font-normal p3-text'})[0].text.rstrip()\n",
    "    Calories_value = calories.find_all('span', {'class': 'value font-light h2-text'})[0].text\n",
    "except:\n",
    "    Calories_value = ''\n",
    "    unit = ''\n",
    "    \n",
    "print('Calories : ',Calories_value, \" \",unit)"
   ]
  },
  {
   "cell_type": "markdown",
   "metadata": {},
   "source": [
    "## Getting the Nutrition Information"
   ]
  },
  {
   "cell_type": "code",
   "execution_count": 9,
   "metadata": {},
   "outputs": [],
   "source": [
    "Nutrition_info = recipe_soup.find_all(\"div\", {'class' : 'recipe-nutrition'})"
   ]
  },
  {
   "cell_type": "code",
   "execution_count": 10,
   "metadata": {},
   "outputs": [
    {
     "name": "stdout",
     "output_type": "stream",
     "text": [
      "No Information on Nutrition Values\n"
     ]
    }
   ],
   "source": [
    "try:\n",
    "    nutritions = [row.find_all('span', {'class': 'label font-bold micro-caps'}) for row in Nutrition_info][0]\n",
    "    nutrition_labels = [row.text for row in nutritions]\n",
    "    nutrition_values = [row.find_all('span', {'class': \"raw-value micro-text\"}) for row in Nutrition_info][0]\n",
    "    Nutrition_values = [row.text for row in nutrition_values]\n",
    "except:\n",
    "    Nutrition_values = ['','','','','']\n",
    "\n",
    "\n",
    "try :\n",
    "    Sodiumindex = nutrition_labels.index('Sodium')\n",
    "    Sodium = Nutrition_values[Sodiumindex]\n",
    "except :\n",
    "    Sodium = ''\n",
    "\n",
    "try :\n",
    "    Fatindex = nutrition_labels.index('Fat')\n",
    "    Fat = Nutrition_values[Fatindex]\n",
    "except :\n",
    "    Fat = ''\n",
    "\n",
    "try :\n",
    "    Proteinindex = nutrition_labels.index('Protein')\n",
    "    Protein = Nutrition_values[Proteinindex]\n",
    "except :\n",
    "    Protein = ''    \n",
    "\n",
    "try :\n",
    "    Carbsindex = nutrition_labels.index('Carbs')\n",
    "    Carbs = Nutrition_values[Carbsindex]\n",
    "except :\n",
    "    Carbs = '' \n",
    "\n",
    "try :\n",
    "    Fiberindex = nutrition_labels.index('Fiber')\n",
    "    Fiber = Nutrition_values[Fiberindex]\n",
    "except :\n",
    "    Fiber = '' \n",
    "\n",
    "try:\n",
    "    print('Nutrition: ', dict(zip(nutrition_labels,Nutrition_values)))\n",
    "except:\n",
    "    print('No Information on Nutrition Values' )\n",
    "\n"
   ]
  },
  {
   "cell_type": "markdown",
   "metadata": {},
   "source": [
    "## Getting the Star Rating and Number of Reviews"
   ]
  },
  {
   "cell_type": "code",
   "execution_count": 11,
   "metadata": {},
   "outputs": [
    {
     "name": "stdout",
     "output_type": "stream",
     "text": [
      "star rating is   with  0 reviews\n"
     ]
    }
   ],
   "source": [
    "try:\n",
    "    rating = recipe_soup.find_all('a', {'class': 'recipe-details-rating p2-text primary-orange'})\n",
    "    star_rating_full = [row.find_all('span', {'class': \"icon full-star y-icon\"}) for row in rating][0]\n",
    "    star_rating_half = [row.find_all('span', {'class': \"icon half-star y-icon\"}) for row in rating][0]\n",
    "    star_rating = len(star_rating_full)+ 0.5*len(star_rating_half)\n",
    "    num_reviews =  [row.find_all('span', {'class': \"count font-bold micro-text\"}) for row in rating][0]\n",
    "    num_reviews = num_reviews[0].text.replace('(', '')\n",
    "    num_reviews = int(num_reviews.replace(')', ''))\n",
    "except:\n",
    "    num_reviews = 0\n",
    "    star_rating = ''\n",
    "\n",
    "print('star rating is',star_rating, ' with ',num_reviews, 'reviews' )\n"
   ]
  },
  {
   "cell_type": "markdown",
   "metadata": {},
   "source": [
    "## Getting the Servings"
   ]
  },
  {
   "cell_type": "code",
   "execution_count": 12,
   "metadata": {},
   "outputs": [
    {
     "name": "stdout",
     "output_type": "stream",
     "text": [
      "Servings:  8\n"
     ]
    }
   ],
   "source": [
    "servings = recipe_soup.find_all('label', {'class' : 'micro-caps greyscale-1'})\n",
    "servings = int(servings[0].find_all('input',{'class':'font-bold greyscale-1'})[0]['value'])\n",
    "print('Servings: ', servings)\n"
   ]
  },
  {
   "cell_type": "markdown",
   "metadata": {},
   "source": [
    "## Getting the Course"
   ]
  },
  {
   "cell_type": "code",
   "execution_count": 13,
   "metadata": {},
   "outputs": [
    {
     "name": "stdout",
     "output_type": "stream",
     "text": [
      "Course:  Main Dish\n"
     ]
    }
   ],
   "source": [
    "course = recipe_soup.find_all('li', {'class' : 'recipe-tag micro-text font-bold'})\n",
    "course = course[0]['title'].strip('Course: ')\n",
    "print('Course: ', course)\n"
   ]
  },
  {
   "cell_type": "markdown",
   "metadata": {},
   "source": [
    "## Getting the url"
   ]
  },
  {
   "cell_type": "code",
   "execution_count": 14,
   "metadata": {},
   "outputs": [
    {
     "name": "stdout",
     "output_type": "stream",
     "text": [
      "http://yummly.com/recipe/Hot-and-Sweet-Cubano-Sandwich-1313298\n"
     ]
    }
   ],
   "source": [
    "rec_url = recipe_url\n",
    "print(rec_url)"
   ]
  },
  {
   "cell_type": "markdown",
   "metadata": {
    "colab_type": "text",
    "id": "zaBYY9UIgz9o"
   },
   "source": [
    "## Putting everything together"
   ]
  },
  {
   "cell_type": "code",
   "execution_count": 15,
   "metadata": {
    "colab": {},
    "colab_type": "code",
    "id": "aaIJwvy7gz9p"
   },
   "outputs": [],
   "source": [
    "import pandas as pd"
   ]
  },
  {
   "cell_type": "code",
   "execution_count": 16,
   "metadata": {},
   "outputs": [],
   "source": [
    "column_names = ['Recipe_Name','Ingredients', 'Number_of_Ingredients', 'Amounts', 'Cooking_Time', 'Cooking_Time_Unit',\n",
    "               'Calories', 'Sodium','Fat','Protein','Carbs','Fiber','Servings', 'Star_Rating','Number_of_Reviews','Course','URL']\n"
   ]
  },
  {
   "cell_type": "code",
   "execution_count": 17,
   "metadata": {},
   "outputs": [
    {
     "data": {
      "text/html": [
       "<div>\n",
       "<style scoped>\n",
       "    .dataframe tbody tr th:only-of-type {\n",
       "        vertical-align: middle;\n",
       "    }\n",
       "\n",
       "    .dataframe tbody tr th {\n",
       "        vertical-align: top;\n",
       "    }\n",
       "\n",
       "    .dataframe thead th {\n",
       "        text-align: right;\n",
       "    }\n",
       "</style>\n",
       "<table border=\"1\" class=\"dataframe\">\n",
       "  <thead>\n",
       "    <tr style=\"text-align: right;\">\n",
       "      <th></th>\n",
       "      <th>Recipe_Name</th>\n",
       "      <th>Ingredients</th>\n",
       "      <th>Number_of_Ingredients</th>\n",
       "      <th>Amounts</th>\n",
       "      <th>Cooking_Time</th>\n",
       "      <th>Cooking_Time_Unit</th>\n",
       "      <th>Calories</th>\n",
       "      <th>Sodium</th>\n",
       "      <th>Fat</th>\n",
       "      <th>Protein</th>\n",
       "      <th>Carbs</th>\n",
       "      <th>Fiber</th>\n",
       "      <th>Servings</th>\n",
       "      <th>Star_Rating</th>\n",
       "      <th>Number_of_Reviews</th>\n",
       "      <th>Course</th>\n",
       "      <th>URL</th>\n",
       "    </tr>\n",
       "  </thead>\n",
       "  <tbody>\n",
       "    <tr>\n",
       "      <th>0</th>\n",
       "      <td>Hot and Sweet Cubano Sandwich</td>\n",
       "      <td>[boneless pork loin roast, honey glazed ham, s...</td>\n",
       "      <td>10</td>\n",
       "      <td>{'boneless pork loin roast': '2 pounds ', 'hon...</td>\n",
       "      <td>105</td>\n",
       "      <td>Minutes</td>\n",
       "      <td></td>\n",
       "      <td></td>\n",
       "      <td></td>\n",
       "      <td></td>\n",
       "      <td></td>\n",
       "      <td></td>\n",
       "      <td>8</td>\n",
       "      <td></td>\n",
       "      <td>0</td>\n",
       "      <td>Main Dish</td>\n",
       "      <td>http://yummly.com/recipe/Hot-and-Sweet-Cubano-...</td>\n",
       "    </tr>\n",
       "  </tbody>\n",
       "</table>\n",
       "</div>"
      ],
      "text/plain": [
       "                     Recipe_Name  \\\n",
       "0  Hot and Sweet Cubano Sandwich   \n",
       "\n",
       "                                         Ingredients  Number_of_Ingredients  \\\n",
       "0  [boneless pork loin roast, honey glazed ham, s...                     10   \n",
       "\n",
       "                                             Amounts Cooking_Time  \\\n",
       "0  {'boneless pork loin roast': '2 pounds ', 'hon...          105   \n",
       "\n",
       "  Cooking_Time_Unit Calories Sodium Fat Protein Carbs Fiber  Servings  \\\n",
       "0           Minutes                                                 8   \n",
       "\n",
       "  Star_Rating  Number_of_Reviews     Course  \\\n",
       "0                              0  Main Dish   \n",
       "\n",
       "                                                 URL  \n",
       "0  http://yummly.com/recipe/Hot-and-Sweet-Cubano-...  "
      ]
     },
     "execution_count": 17,
     "metadata": {},
     "output_type": "execute_result"
    }
   ],
   "source": [
    "df = pd.DataFrame([[Recipe_Name,ingredients, Number_of_ingredients, Amounts, Time_value, Time_unit, Calories_value,\n",
    "                    Sodium, Fat, Protein, Carbs, Fiber, servings, star_rating, num_reviews,course,rec_url]], columns=column_names)\n",
    "df.head()"
   ]
  }
 ],
 "metadata": {
  "colab": {
   "name": "scraping_insight_2020_May.ipynb",
   "provenance": []
  },
  "kernelspec": {
   "display_name": "Python 3",
   "language": "python",
   "name": "python3"
  },
  "language_info": {
   "codemirror_mode": {
    "name": "ipython",
    "version": 3
   },
   "file_extension": ".py",
   "mimetype": "text/x-python",
   "name": "python",
   "nbconvert_exporter": "python",
   "pygments_lexer": "ipython3",
   "version": "3.8.2"
  }
 },
 "nbformat": 4,
 "nbformat_minor": 1
}
